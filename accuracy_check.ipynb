{
 "cells": [
  {
   "cell_type": "code",
   "execution_count": 3,
   "metadata": {},
   "outputs": [
    {
     "name": "stdout",
     "output_type": "stream",
     "text": [
      "Test with: cpu\n",
      "Total number of data: 35\n"
     ]
    }
   ],
   "source": [
    "import torch\n",
    "import torchvision.datasets as datasets\n",
    "import torchvision.models as models\n",
    "import torchvision.transforms as transforms\n",
    "\n",
    "from src.vit_recipro_cam_metric import *\n",
    "\n",
    "device = 'cuda' if torch.cuda.is_available() else 'cpu'\n",
    "print(f\"Test with: {device}\")\n",
    "\n",
    "# CAM model's accuracy is measured with ILSVRC2012_cls validation dataset\n",
    "IMAGE_PATH = '../Data/ILSVRC2012_cls/val'\n",
    "Height = 224\n",
    "Width = 224\n",
    "batch_size = 5\n",
    "normalize = transforms.Normalize(mean=[0.485, 0.456, 0.406],\n",
    "                                    std=[0.229, 0.224, 0.225])\n",
    "data_loader = torch.utils.data.DataLoader(\n",
    "    datasets.ImageFolder(IMAGE_PATH, transforms.Compose([\n",
    "        transforms.Resize([256, 256]),\n",
    "        transforms.CenterCrop((Height, Width)),\n",
    "        transforms.ToTensor(),\n",
    "        normalize,\n",
    "    ])),\n",
    "    batch_size=batch_size, shuffle=False, num_workers=4, pin_memory=True)\n",
    "\n",
    "print(f'Total number of data: {len(data_loader.dataset.imgs)}')\n"
   ]
  },
  {
   "cell_type": "code",
   "execution_count": 4,
   "metadata": {},
   "outputs": [],
   "source": [
    "# Load ViT base model\n",
    "from torchvision.models import vit_b_16, ViT_B_16_Weights\n",
    "model = vit_b_16(weights=ViT_B_16_Weights.IMAGENET1K_V1).to(device)"
   ]
  },
  {
   "cell_type": "code",
   "execution_count": 5,
   "metadata": {},
   "outputs": [
    {
     "name": "stdout",
     "output_type": "stream",
     "text": [
      "Average Drop: 8.554266929626465, Average Increase: 68.57142639160156\n"
     ]
    }
   ],
   "source": [
    "# Evaluate the model with average drop and increase metric\n",
    "avg_drop, avg_inc = average_drop_increase(model, data_loader, Height, Width, batch_size, device=device)\n",
    "print(f\"Average Drop: {avg_drop}, Average Increase: {avg_inc}\")"
   ]
  },
  {
   "cell_type": "code",
   "execution_count": 7,
   "metadata": {},
   "outputs": [
    {
     "name": "stdout",
     "output_type": "stream",
     "text": [
      "Deletion AUC: 0.006671550885046736, Insertion AUC: 0.029048736376109736\n"
     ]
    }
   ],
   "source": [
    "# Evaluate the model with DAUC and IAUC metric\n",
    "DAUC, IAUC = dauc_iauc(model, data_loader, Height, Width, batch_size, device=device)\n",
    "print(f\"Deletion AUC: {DAUC}, Insertion AUC: {IAUC}\")"
   ]
  },
  {
   "cell_type": "code",
   "execution_count": 6,
   "metadata": {},
   "outputs": [
    {
     "name": "stdout",
     "output_type": "stream",
     "text": [
      "Drop: 15.181533268519809, Increase: 74.28571428571429, Coherency: 83.77099173409597, Complexity: 45.07743290492466, ADCC: 71.53989475135123\n"
     ]
    }
   ],
   "source": [
    "# Evaluate the model with ADCC metric\n",
    "avg_drop, avg_inc, coherency, complexity, adcc = ADCC(model, data_loader, Height, Width, batch_size, device=device)\n",
    "print(f\"Drop: {avg_drop}, Increase: {avg_inc}, Coherency: {coherency}, Complexity: {complexity}, ADCC: {adcc}\")"
   ]
  }
 ],
 "metadata": {
  "kernelspec": {
   "display_name": "myLLM",
   "language": "python",
   "name": "python3"
  },
  "language_info": {
   "codemirror_mode": {
    "name": "ipython",
    "version": 3
   },
   "file_extension": ".py",
   "mimetype": "text/x-python",
   "name": "python",
   "nbconvert_exporter": "python",
   "pygments_lexer": "ipython3",
   "version": "3.12.2"
  }
 },
 "nbformat": 4,
 "nbformat_minor": 2
}
